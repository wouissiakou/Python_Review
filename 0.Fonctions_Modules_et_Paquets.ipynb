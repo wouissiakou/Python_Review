{
 "cells": [
  {
   "cell_type": "markdown",
   "metadata": {},
   "source": [
    "****\n",
    "\n",
    "# <center> <b> <span style=\"color:orange;\"> Programmation en Python </span> </b></center>\n",
    "\n",
    "\n",
    "### <center> <b> <span style=\"color:blue;\">Fonctions, Modules et Paquets </span> </b></center>\n",
    "\n",
    "\n",
    "\n",
    "****\n",
    "\n",
    "\n",
    "\n",
    "\n",
    "#### <left> <b> <span style=\"color:brown;\">Instructeur : </span> </b></left>[Yaé Ulrich Gaba](https://github.com/gabayae)\n",
    "\n",
    "\n",
    "> **Résumé:** Dans ce calepin, nous allons étudier comment élaborer et appliquer une fonction sous python. Nous menons une discussion générale sur comment créer et utiliser un module python. Les fonctions sont la base des modules et des paquets dont nous parlerons également. \n",
    "****\n"
   ]
  },
  {
   "cell_type": "markdown",
   "metadata": {},
   "source": [
    "## <b> <span style=\"color:orange;\"> 0. Fonctions </span> </b>\n",
    "\n",
    "Simplement définie, une _fonction_ est un bout de programme, un ensemble d’instructions agencées dans le but de réaliser une ou plusieurs tâches bien définies. On distingue deux catégories de fonctions sous python, les <b> <span style=\"color:brown;\"> fonctions prédéfinies </span> </b> et les <b> <span style=\"color:brown;\"> fonctions-utilisateurs </span> </b>; i.e. écrites par les utilisateurs. \n",
    "\n",
    "- Les `fonctions prédéfinies` sont des fonctions directement intégrées dans la bibliothèque standard du système python.\n",
    "- Les `fonctions-utilisateurs` sont écrites soit par l’utilisateur actuel ou par d’autres utilisateurs."
   ]
  },
  {
   "cell_type": "markdown",
   "metadata": {},
   "source": [
    "\n",
    "\n",
    "### <b> <span style=\"color:brown;\"> 0.0. Quelques fonctions prédéfinies sous python </span> </b>\n",
    "\n",
    "Nous connaissons déjà bien les fonction `print()` et `type()` qui permettent respectivement d’afficher des données ou de connaitre le type d’une donnée Python. Python ne contient pas énormément de fonctions prédéfinies -seulement celles qui s’avèrent le plus utiles- et la plupart d’entre elles sont donc très régulièrement utilisées.\n",
    "\n",
    "\n",
    " - La fonction `print()`: Comme on le sait déjà, la fonction `print()` a pour rôle d'afficher à l’écran les valeurs des objets spécifiés comme arguments:\n",
    " \n",
    " ```python\n",
    "print(\"Bonjour\", \"à\", \"tous\")\n",
    "x=12\n",
    "print(x)\n",
    "y=[1, \"lundi\",\"12\", 5, 3, \"valeur test\"]\n",
    "print(y)\n",
    "```\n",
    "\n",
    "On peut remplacer le séparateur par défaut (l’espace) par un autre caractère quelconque (ou\n",
    "même par aucun caractère), grâce à l’argument `sep`:\n",
    "\n",
    "```python\n",
    "    print(\"Bonjour\", \"à\", \"tous\", sep= \"****\")\n",
    "    print(\"Bonjour\", \"à\", \"tous\", sep= \"\")\n",
    "```    \n",
    "\n",
    "\n",
    "****\n",
    "\n",
    " - La fonction `input()` : La fonction **input()** permet de donner la main à l'utilisateur afin qu'il saisisse la valeur d'un argument donné:\n",
    " \n",
    " ```python\n",
    "    prenom = input(\"Entrez votre prénom : \")\n",
    "    print(\"Bonjour,\", prenom)\n",
    " ```\n",
    " \n",
    " ```python\n",
    "    print(\"Veuillez entrer un nombre positif quelconque : \", end=\" \"  )\n",
    "    ch = input()\n",
    "    num = int(ch) # conversion de la chaîne en un nombre entier\n",
    "    print(\"Le carré de\", num, \"vaut\", num**2)\n",
    " ```   \n",
    " "
   ]
  },
  {
   "cell_type": "markdown",
   "metadata": {},
   "source": [
    "**NB** : Soulignons que la fonction `input()` renvoie toujours une donnée de type chaîne de caractères. Si vous souhaitez que l’utilisateur entre une valeur numérique, vous devrez donc convertir la valeur entrée (qui sera donc de toute façon de type string) en une valeur numérique du type qui vous convient, par l’intermédiaire des fonctions intégrées `int()` (si vous attendez un entier) ou `float()` (si vous attendez un réel).\n",
    "\n",
    "Vous trouverez [**ici une liste**](https://www.pierre-giraud.com/python-apprendre-programmer-cours/top-fonction/) plus ou moins complète des `fonctions prédéfinies sous python`. Des fonctions comme `range()`, `round()`, `sum()`, `min()`, `max()`, `input()`, `len()`, `dir()` auxquelles vous êtes sûrement déjà très habitués y figurent tout naturellement."
   ]
  },
  {
   "cell_type": "markdown",
   "metadata": {},
   "source": [
    "### <b> <span style=\"color:brown;\"> 0.1. Les fonctions définies par l’utilisateur </span> </b>\n",
    "\n",
    "\n",
    "Pour définir une fonction sous Python, on utilise le mot clé `def ` pour déclarer le nom de la\n",
    "fonction. La syntaxe générale de définition d’une fonction est la suivante :\n",
    "\n",
    "\n",
    "        def nomDeLaFonction([paramètre1,paramètre2,...,paramètreN]):\n",
    "        \n",
    "            \"\"\"Documentation de la fonction.\"\"\"\n",
    "            \n",
    "            <bloc_instructions>\n",
    "            [return variable]\n",
    "            \n",
    "\n",
    "Dans la définition d’une fonction, la première chaîne de charactères (appelé `docstring` ou `documentation de la fonction` ) servira bien evidemment de documentation pour la fonction, accessible de l’interpréteur via p.ex. `help(nomDeLaFonction)`, ou `nomDeLaFonction?` sous *jupyter*. Elle se doit d’être tout à la fois pertinente, concise et complète. Elle peut également inclure des exemples d’utilisation. Nous le verons en détails plus bas.          "
   ]
  },
  {
   "cell_type": "markdown",
   "metadata": {},
   "source": [
    "####  <b> <span style=\"color:green;\"> 0.1.0. Zéro (0), Un (1) ou plusieurs paramètres, pas de retour </span> </b>\n",
    "\n",
    "Sans l’instruction `return` (qui est optionnelle), les fonctions définies sont souvent appellées **procédure**. Dans\n",
    "ce cas la fonction renvoie implicitement la valeur `None`.\n",
    "\n",
    "\n",
    "##### <b> <span style=\"color:gray;\"> 0.1.0.0. Définition d'une fonction simple sans argument </span> </b>\n",
    "\n",
    "L’exemple ci-dessous illustre la définition d’une fonction simple sans argument. Le but de la fonction est d’afficher les $20$ premières valeurs de la table de multiplication par $8$.\n",
    "\n",
    "```python\n",
    "def tableMultiplication8():\n",
    "    \"\"\"\n",
    "    Le but de la fonction est d’afficher les 20 premières \n",
    "    valeurs de la table de multiplication par 8.\n",
    "    Entree : Aucune\n",
    "    Sortie : La table de multiplication par 8\n",
    "    \"\"\"\n",
    "    n = 1\n",
    "    while n <=20 :\n",
    "        v = n*8\n",
    "        print(n, 'x', 8, '=', v, sep =' ')\n",
    "        n = n +1\n",
    "```\n",
    "Pour exécuter la fonction `tableMultiplication8()` que nous venons de définir, il suffit de la référencer en indiquant son nom c(n’importe où dans le programme principal). "
   ]
  },
  {
   "cell_type": "code",
   "execution_count": 2,
   "metadata": {},
   "outputs": [],
   "source": [
    "def tableMultiplication8():\n",
    "    \"\"\"\n",
    "    Le but de la fonction est d’afficher les 20 premières \n",
    "    valeurs de la table de multiplication par 8.\n",
    "    Entree : Aucune\n",
    "    Sortie : La table de multiplication par 8\n",
    "    \"\"\"\n",
    "    n = 1\n",
    "    while n <=20 :\n",
    "        v = n*8\n",
    "        print(n, 'x', 8, '=', v, sep =' ')\n",
    "        n = n +1"
   ]
  },
  {
   "cell_type": "code",
   "execution_count": 3,
   "metadata": {},
   "outputs": [
    {
     "name": "stdout",
     "output_type": "stream",
     "text": [
      "1 x 8 = 8\n",
      "2 x 8 = 16\n",
      "3 x 8 = 24\n",
      "4 x 8 = 32\n",
      "5 x 8 = 40\n",
      "6 x 8 = 48\n",
      "7 x 8 = 56\n",
      "8 x 8 = 64\n",
      "9 x 8 = 72\n",
      "10 x 8 = 80\n",
      "11 x 8 = 88\n",
      "12 x 8 = 96\n",
      "13 x 8 = 104\n",
      "14 x 8 = 112\n",
      "15 x 8 = 120\n",
      "16 x 8 = 128\n",
      "17 x 8 = 136\n",
      "18 x 8 = 144\n",
      "19 x 8 = 152\n",
      "20 x 8 = 160\n"
     ]
    }
   ],
   "source": [
    "tableMultiplication8() # appelle la fonction tableMultiplication8()"
   ]
  },
  {
   "cell_type": "markdown",
   "metadata": {},
   "source": [
    "**** \n",
    "<left> <b> <span style=\"color:brown;\">Exercice: </span> </b></left>\n",
    "\n",
    "Proposer une version de la fonction `tableMultiplication8()` à partir d’une\n",
    "boucle « for ».\n",
    "****"
   ]
  },
  {
   "cell_type": "markdown",
   "metadata": {},
   "source": [
    "##### <b> <span style=\"color:gray;\"> 0.1.0.1. Définition d'une fonction dont l'argument est un paramètre </span> </b>\n",
    "\n",
    "Un paramètre est une variable qui prend une valeur constante. Dans l'exemple précédent, nous avons élaboré une table de multiplication par $8$. Ici $8$ est appelee `la base`. Nous pouvons généraliser cette fonction de sorte que qu’elle puisse renvoyée la table de multiplication de n’importe quel nombre/base spécifié(e) comme argument. Ces nombres étant des paramètres, il s’agit alors de définir une fonction dont les arguments sont les paramètres. Voir l’exemple ci-dessous"
   ]
  },
  {
   "cell_type": "code",
   "execution_count": 12,
   "metadata": {},
   "outputs": [],
   "source": [
    "def tableMultiplication(base):\n",
    "    n = 1\n",
    "    while n <=20 :\n",
    "        v=n*base\n",
    "        print(n, 'x', base, '=', v, sep =' ')\n",
    "        n = n +1"
   ]
  },
  {
   "cell_type": "code",
   "execution_count": 13,
   "metadata": {},
   "outputs": [
    {
     "name": "stdout",
     "output_type": "stream",
     "text": [
      "1 x 2 = 2\n",
      "2 x 2 = 4\n",
      "3 x 2 = 6\n",
      "4 x 2 = 8\n",
      "5 x 2 = 10\n",
      "6 x 2 = 12\n",
      "7 x 2 = 14\n",
      "8 x 2 = 16\n",
      "9 x 2 = 18\n",
      "10 x 2 = 20\n",
      "11 x 2 = 22\n",
      "12 x 2 = 24\n",
      "13 x 2 = 26\n",
      "14 x 2 = 28\n",
      "15 x 2 = 30\n",
      "16 x 2 = 32\n",
      "17 x 2 = 34\n",
      "18 x 2 = 36\n",
      "19 x 2 = 38\n",
      "20 x 2 = 40\n",
      "1 x 8 = 8\n",
      "2 x 8 = 16\n",
      "3 x 8 = 24\n",
      "4 x 8 = 32\n",
      "5 x 8 = 40\n",
      "6 x 8 = 48\n",
      "7 x 8 = 56\n",
      "8 x 8 = 64\n",
      "9 x 8 = 72\n",
      "10 x 8 = 80\n",
      "11 x 8 = 88\n",
      "12 x 8 = 96\n",
      "13 x 8 = 104\n",
      "14 x 8 = 112\n",
      "15 x 8 = 120\n",
      "16 x 8 = 128\n",
      "17 x 8 = 136\n",
      "18 x 8 = 144\n",
      "19 x 8 = 152\n",
      "20 x 8 = 160\n",
      "1 x 11 = 11\n",
      "2 x 11 = 22\n",
      "3 x 11 = 33\n",
      "4 x 11 = 44\n",
      "5 x 11 = 55\n",
      "6 x 11 = 66\n",
      "7 x 11 = 77\n",
      "8 x 11 = 88\n",
      "9 x 11 = 99\n",
      "10 x 11 = 110\n",
      "11 x 11 = 121\n",
      "12 x 11 = 132\n",
      "13 x 11 = 143\n",
      "14 x 11 = 154\n",
      "15 x 11 = 165\n",
      "16 x 11 = 176\n",
      "17 x 11 = 187\n",
      "18 x 11 = 198\n",
      "19 x 11 = 209\n",
      "20 x 11 = 220\n"
     ]
    }
   ],
   "source": [
    "tableMultiplication(2) # renvoie la table de multiplication par 2\n",
    "tableMultiplication(8) # renvoie la table de multiplication par 8\n",
    "tableMultiplication(11) # renvoie la table de multiplication par 11"
   ]
  },
  {
   "cell_type": "markdown",
   "metadata": {},
   "source": [
    "##### <b> <span style=\"color:gray;\"> 0.1.0.2. Définition d'une fonction avec plusieurs paramètres, pas de retour </span> </b>\n",
    "\n",
    "    \n",
    "```python    \n",
    "def table(base, debut, fin):\n",
    "\"\"\"Affiche la table des <base> de <debut> à <fin>.\"\"\"\n",
    "    n = debut\n",
    "    while n <= fin:\n",
    "        print(n, ’x’, base, ’=’, n * base, end=” ”)\n",
    "        n += 1\n",
    "```\n",
    "\n",
    "```python\n",
    "# exemple d’appel :\n",
    "table(7, 2, 11)\n",
    "# 2 x 7 = 14 3 x 7 = 21 4 x 7 = 28 5 x 7 = 35 6 x 7 = 42\n",
    "# 7 x 7 = 49 8 x 7 = 56 9 x 7 = 63 10 x 7 = 70 11 x 7 = 77\n",
    "```"
   ]
  },
  {
   "cell_type": "code",
   "execution_count": 13,
   "metadata": {},
   "outputs": [
    {
     "name": "stdout",
     "output_type": "stream",
     "text": [
      "2 x 7 = 14 \t3 x 7 = 21 \t4 x 7 = 28 \t5 x 7 = 35 \t6 x 7 = 42 \t7 x 7 = 49 \t8 x 7 = 56 \t9 x 7 = 63 \t10 x 7 = 70 \t11 x 7 = 77 \t"
     ]
    }
   ],
   "source": [
    "def table(base, debut, fin):\n",
    "    \"\"\"Affiche la table de <base> de <debut> à <fin>.\"\"\"\n",
    "    n = debut\n",
    "    while n <= fin:\n",
    "        print(n, 'x', base, '=', n * base, end= \" \\t\")\n",
    "        n += 1\n",
    "\n",
    "\n",
    "# exemple d’appel :\n",
    "table(7, 2, 11)\n",
    "# 2 x 7 = 14 3 x 7 = 21 4 x 7 = 28 5 x 7 = 35 6 x 7 = 42 7 x 7 = 49 8 x 7 = 56 9 x 7 = 63 \n",
    "# 10 x 7 = 70 11 x 7 = 77\n"
   ]
  },
  {
   "cell_type": "markdown",
   "metadata": {},
   "source": [
    "####  <b> <span style=\"color:green;\"> 0.2.0. Zéro (0), Un (1) ou plusieurs paramètres, utilisation du retour </span> </b>\n",
    "\n",
    "\n",
    "##### <b> <span style=\"color:gray;\"> 0.2.0.0. Définition d'une fonction simple sans argument </span> </b>\n",
    "\n",
    "\n",
    "**Exemple avec utilisation d’un `return` unique :**\n",
    "\n",
    "\n",
    "```python\n",
    "def salutation1():\n",
    "    matin = \"Bonjour\"\n",
    "    return matin\n",
    "```\n",
    "\n",
    "\n",
    "\n",
    "\n",
    "**Exemple avec utilisation d’un return multiple :**\n",
    "\n",
    "```python\n",
    "def salutation2():\n",
    "    nom = \"Blaise\"\n",
    "    age = 15\n",
    "    return nom, age\n",
    "```\n"
   ]
  },
  {
   "cell_type": "code",
   "execution_count": 15,
   "metadata": {},
   "outputs": [],
   "source": [
    "# Exemple avec utilisation d’un `return` unique \n",
    "def salutation1():\n",
    "    matin = \"Bonjour\"\n",
    "    return matin\n",
    "\n",
    "\n",
    "\n",
    "\n",
    "#Exemple avec utilisation d’un return multiple\n",
    "def salutation2():\n",
    "    nom = \"Blaise\"\n",
    "    age = 15\n",
    "    return nom, age\n"
   ]
  },
  {
   "cell_type": "code",
   "execution_count": 16,
   "metadata": {},
   "outputs": [
    {
     "data": {
      "text/plain": [
       "'Bonjour'"
      ]
     },
     "execution_count": 16,
     "metadata": {},
     "output_type": "execute_result"
    }
   ],
   "source": [
    " salutation1()"
   ]
  },
  {
   "cell_type": "code",
   "execution_count": 17,
   "metadata": {},
   "outputs": [
    {
     "data": {
      "text/plain": [
       "('Blaise', 15)"
      ]
     },
     "execution_count": 17,
     "metadata": {},
     "output_type": "execute_result"
    }
   ],
   "source": [
    " salutation2()"
   ]
  },
  {
   "cell_type": "markdown",
   "metadata": {},
   "source": [
    "##### <b> <span style=\"color:gray;\"> 0.2.0.1. Définition d'une fonction dont l'argument est un paramètre </span> </b>\n",
    "\n",
    "**Exemple avec utilisation d’un `return` unique :**\n",
    "\n",
    "\n",
    "```python\n",
    "def salutation1(x):\n",
    "    return x\n",
    "```\n",
    "\n",
    "\n",
    "\n",
    "\n",
    "**Exemple avec utilisation d’un return multiple :**\n",
    "```python\n",
    "def salutation2(nom, age):\n",
    "    return nom, age\n",
    "```"
   ]
  },
  {
   "cell_type": "code",
   "execution_count": 18,
   "metadata": {},
   "outputs": [],
   "source": [
    "# Exemple avec utilisation d’un `return` unique \n",
    "def salutation11(x):\n",
    "    return x\n",
    "\n",
    "\n",
    "\n",
    "\n",
    "#Exemple avec utilisation d’un return multiple\n",
    "def salutation22(age):\n",
    "    return age, 2*age"
   ]
  },
  {
   "cell_type": "code",
   "execution_count": 19,
   "metadata": {},
   "outputs": [
    {
     "data": {
      "text/plain": [
       "'Bonjour'"
      ]
     },
     "execution_count": 19,
     "metadata": {},
     "output_type": "execute_result"
    }
   ],
   "source": [
    " salutation11(\"Bonjour\")"
   ]
  },
  {
   "cell_type": "code",
   "execution_count": 20,
   "metadata": {},
   "outputs": [
    {
     "data": {
      "text/plain": [
       "(45, 90)"
      ]
     },
     "execution_count": 20,
     "metadata": {},
     "output_type": "execute_result"
    }
   ],
   "source": [
    " salutation22(45)"
   ]
  },
  {
   "cell_type": "markdown",
   "metadata": {},
   "source": [
    "##### <b> <span style=\"color:gray;\"> 0.2.0.2. Définition d'une fonction avec plusieurs paramètres </span> </b>\n",
    "\n",
    "\n",
    "**Exemple avec utilisation d’un `return` unique :**\n",
    "\n",
    "```python\n",
    "def salutation111(x,y,z):\n",
    "    x = float(input('Nom : ''))\n",
    "    y = float(input('Prénom : ''))\n",
    "    z = float(input('Age : ''))\n",
    "    T = \"Je suis, \", x + \" \" + y + \" et j'ai \" + z + \"ans.\"             \n",
    "   return T\n",
    "```\n",
    "\n",
    "\n",
    "\n",
    "\n",
    "**Exemple avec utilisation d’un return multiple :**\n",
    "```python\n",
    "def salutation222((x,y,z):\n",
    "    return x,y,z\n",
    "```                  "
   ]
  },
  {
   "cell_type": "code",
   "execution_count": 21,
   "metadata": {},
   "outputs": [],
   "source": [
    "def salutation111(x,y,z):\n",
    "    x = input('Nom : ')\n",
    "    y = input('Prénom : ')\n",
    "    z = input('Age : ')\n",
    "    T = \"Je suis \" + x + \" \" + y + \" et j'ai \" + z + \" ans.\"             \n",
    "    return T"
   ]
  },
  {
   "cell_type": "code",
   "execution_count": 1,
   "metadata": {},
   "outputs": [],
   "source": [
    "salutation111(1,2,3)"
   ]
  },
  {
   "cell_type": "code",
   "execution_count": 1,
   "metadata": {},
   "outputs": [],
   "source": [
    "def salutation222(x,y,z):\n",
    "    return x,y,z"
   ]
  },
  {
   "cell_type": "code",
   "execution_count": 2,
   "metadata": {},
   "outputs": [
    {
     "data": {
      "text/plain": [
       "('Jacques', 'Michel', 25)"
      ]
     },
     "execution_count": 2,
     "metadata": {},
     "output_type": "execute_result"
    }
   ],
   "source": [
    "salutation222(\"Jacques\",\"Michel\", 25)"
   ]
  },
  {
   "cell_type": "markdown",
   "metadata": {},
   "source": [
    "##### <b> <span style=\"color:gray;\"> 0.2.0.3. Composition de fonctions </span> </b>\n",
    "\n",
    "Une opération mathématiques bien connue est la omposition de fonctions. En voici un exemple:\n",
    "\n",
    "```python\n",
    "\n",
    "def carre(x):\n",
    "    return x**2\n",
    "\n",
    "def aireCarre(r):\n",
    "    return carre(x)\n",
    "\n",
    "# Saisie du cote et affichage de l'aire\n",
    "\n",
    "cote = float(input('Cote : ''))\n",
    "print(”Aire du carre =”, aireCarre(cote))\n",
    "```"
   ]
  },
  {
   "cell_type": "code",
   "execution_count": 7,
   "metadata": {},
   "outputs": [
    {
     "name": "stdout",
     "output_type": "stream",
     "text": [
      "Coté : 34\n",
      "Aire du carré =  1156.0\n"
     ]
    }
   ],
   "source": [
    "def carre(x):\n",
    "    return x**2\n",
    "\n",
    "def aireCarre(r):\n",
    "    return carre(r)\n",
    "\n",
    "# Saisie du cote et affichage de l'aire\n",
    "\n",
    "cote = float(input('Coté : '))\n",
    "print(\"Aire du carré = \", aireCarre(cote))"
   ]
  },
  {
   "cell_type": "markdown",
   "metadata": {},
   "source": [
    "**Un exemple plus élaboré :**\n",
    "```python\n",
    "PI = 3.14\n",
    "def surfaceVolumeSphere(r):\n",
    "        surf = 4.0 *PI* r**2\n",
    "        vol = surf * r/3\n",
    "    return surf, vol\n",
    "\n",
    "# programme principal\n",
    "rayon = float(input('Rayon : '))\n",
    "s, v = surfaceVolumeSphere(rayon)\n",
    "print(”Sphère de surface {:g} et de volume {:g}”.format(s, v))\n",
    "```"
   ]
  },
  {
   "cell_type": "code",
   "execution_count": 11,
   "metadata": {},
   "outputs": [
    {
     "name": "stdout",
     "output_type": "stream",
     "text": [
      "Rayon : 34\n",
      "Sphère de surface 14519.4 et de volume 164553\n"
     ]
    }
   ],
   "source": [
    "PI = 3.14\n",
    "def surfaceVolumeSphere(r):\n",
    "        surf = 4.0 *PI* r**2\n",
    "        vol = surf * r/3\n",
    "        return surf, vol\n",
    "\n",
    "\n",
    "rayon = float(input('Rayon : '))\n",
    "s, v = surfaceVolumeSphere(rayon)\n",
    "print(\"Sphère de surface {:g} et de volume {:g}\".format(s, v))\n"
   ]
  },
  {
   "cell_type": "markdown",
   "metadata": {},
   "source": [
    " ### <b> <span style=\"color:brown;\"> 0.2. Passage d’une fonction en paramètre </span> </b> \n",
    "```python\n",
    "def tabuler(fonction, borneInf, borneSup, nbPas):\n",
    "    \"\"\"Affichage des valeurs de <fonction>. On doit avoir (borneInf < borneSup) et (nbPas > 0)\"\"\"\n",
    "    h, x = (borneSup - borneInf) / float(nbPas), borneInf\n",
    "    while x <= borneSup:\n",
    "        y = fonction(x)\n",
    "        print(”f({:.2f}) = {:.2f}”.format(x, y))\n",
    "        x += h\n",
    "```\n",
    "\n",
    "```python\n",
    "def maFonction(x):\n",
    "    return 2*x**3 + x - 5\n",
    "```\n",
    "```python\n",
    "tabuler(maFonction, -5, 5, 10)\n",
    "# f(-5.00) = -260.00\n",
    "# f(-4.00) = -137.00\n",
    "# ...\n",
    "# f(5.00) = 250.00\n",
    "```"
   ]
  },
  {
   "cell_type": "code",
   "execution_count": 4,
   "metadata": {},
   "outputs": [
    {
     "name": "stdout",
     "output_type": "stream",
     "text": [
      "f(-5.00) = -260.00\n",
      "f(-4.00) = -137.00\n",
      "f(-3.00) = -62.00\n",
      "f(-2.00) = -23.00\n",
      "f(-1.00) = -8.00\n",
      "f(0.00) = -5.00\n",
      "f(1.00) = -2.00\n",
      "f(2.00) = 13.00\n",
      "f(3.00) = 52.00\n",
      "f(4.00) = 127.00\n",
      "f(5.00) = 250.00\n"
     ]
    }
   ],
   "source": [
    "def tabuler(fonction, borneInf, borneSup, nbPas):\n",
    "    \"\"\"Affichage des valeurs de <fonction>. On doit avoir (borneInf < borneSup) et (nbPas > 0)\"\"\"\n",
    "    h, x = (borneSup - borneInf) / float(nbPas), borneInf\n",
    "    while x <= borneSup:\n",
    "        y = fonction(x)\n",
    "        print(\"f({:.2f}) = {:.2f}\".format(x, y))\n",
    "        x += h\n",
    "        \n",
    "def maFonction(x):\n",
    "    return 2*x**3 + x - 5\n",
    "\n",
    "tabuler(maFonction, -5, 5, 10)"
   ]
  },
  {
   "cell_type": "markdown",
   "metadata": {},
   "source": [
    "### <b> <span style=\"color:brown;\"> 0.3. Définition des valeurs par défaut pour les arguments d’une fonction </span> </b> \n",
    "\n",
    "\n",
    " \n",
    "Lors de la définition d’une fonction, il est souvent conseillé de définir des valeurs par défaut\n",
    "pour certain arguments (notamment les arguments optionnels). En définissant les valeurs par défaut pour les arguments d’une fonction, il est possible\n",
    "d’appeler le programme avec une partie seulement des arguments attendus. Exemples :\n",
    "\n",
    "```python\n",
    "   def salutation(nom, titre ='Monsieur'):\n",
    "        print(\"Bonjour\", titre, nom)\n",
    "```\n",
    "\n",
    "La fonction salutation ainsi définie a deux arguments : nom et titre. Une valeur par défaut a été\n",
    "définie pour l’argument. Ainsi lorsque la fonction salutation est appelée avec seulement\n",
    "l’argument nom (omettant l’argument), la fonction renvoie la valeur par défaut Monsieur.\n",
    "Exemple :\n",
    "\n",
    "```python\n",
    "   salutation('Dupont') # renvoie Bonjour Monsieur Dupont\n",
    "```    \n",
    "\n",
    "Mais lorsque la fonction est appelée avec les deux arguments, la valeur par défaut est ignorée.\n",
    "Exemple :\n",
    "En définissant les valeurs par défaut pour les arguments d’une fonction, il est possible\n",
    "d’appeler le programme avec une partie seulement des arguments attendus. Exemple:\n",
    "```python\n",
    "   salutation('Dupont', 'Mademoiselle')\n",
    "```"
   ]
  },
  {
   "cell_type": "markdown",
   "metadata": {},
   "source": [
    "<left> <b> <span style=\"color:red;\"> NB : Les arguments sans valeur par défaut doivent être spécifiés avant les arguments avec les\n",
    "valeurs par défaut. Par exemple, la définition ci-dessous est incorrecte et renvoie une erreur\n",
    "lors de l’exécution.</span> </b></left>\n",
    "```python\n",
    "   def salutation(titre='Monsieur', nom):\n",
    "```    "
   ]
  },
  {
   "cell_type": "code",
   "execution_count": null,
   "metadata": {},
   "outputs": [],
   "source": [
    "def salutation(titre='Monsieur', nom):"
   ]
  },
  {
   "cell_type": "markdown",
   "metadata": {},
   "source": [
    "### <b> <span style=\"color:brown;\"> 0.4. Les fonctions lambda </span> </b> \n",
    "\n",
    "\n",
    "Une fonction `lambda` est une fonction anonyme c'est-à-dire une fonction constituée d’un bloc d’instructions appelable et réutilisable comme une fonction, mais sans nom. Une fonction lambda est généralement utilisée pour des fonctions très courtes avec peu d’instructions (nécessitant pas alors d’écrire une fonction classique avec le mot clé def et un appel).\n",
    "\n",
    "La syntaxe générale de définition d'une fonction lamda est la suivante:\n",
    "\n",
    "```python\n",
    "   lambda arg1, arg2,..., argN : bloc instructions(ou formules)\n",
    "```\n",
    "\n",
    "L’exemple ci-dessus illustre la défintion d’une fonction lambda.\n",
    "```python\n",
    "   lambda x, y : x * y\n",
    "```    "
   ]
  },
  {
   "cell_type": "markdown",
   "metadata": {},
   "source": [
    "Notons toutefois que même si la fonction lambda n’est pas définie avec un nom, pour\n",
    "récupérer la valeur renvoyée, lors de l’appel de la fonction, il faut l’assigner à une nouvelle\n",
    "variable. L’exemple ci-dessous illustre l’appel de la fonction lambda précédente en prenant x=2\n",
    "et y=3.\n",
    "```python\n",
    "   x = lambda x, y : x * y\n",
    "   x(2,3)\n",
    "```"
   ]
  },
  {
   "cell_type": "code",
   "execution_count": null,
   "metadata": {},
   "outputs": [],
   "source": [
    "x = lambda x, y : x * y\n",
    "x(2,3)"
   ]
  },
  {
   "cell_type": "markdown",
   "metadata": {},
   "source": [
    "### <b> <span style=\"color:brown;\"> 0.5. Variables locales vs variables globales </span> </b> \n",
    "\n",
    "Note : Lorsque nous définissons des variables à l’intérieur d’une fonction, ces variables ne sont\n",
    "accessibles que pour cette fonction elle-même. On dit que ces variables sont des variables\n",
    "`« locales » ` à la fonction. Mais lorsque les variables sont définies à l’extérieur de la fonction dans\n",
    "le corps du programme principal. Ces variables sont appelées variables `« globales »`. Le contenu d’une variable globale est visible et accessible à partir de l’intérieur d’une fonction,\n",
    "mais cette fonction ne peut pas modifier la valeur de la variable."
   ]
  },
  {
   "cell_type": "code",
   "execution_count": 5,
   "metadata": {},
   "outputs": [
    {
     "name": "stdout",
     "output_type": "stream",
     "text": [
      "15 38\n",
      "20 38\n",
      "15 38\n"
     ]
    }
   ],
   "source": [
    "def myFunction():\n",
    "    p = 20\n",
    "    print(p, q)\n",
    "p=15\n",
    "q=38\n",
    "\n",
    "print(p, q) # renvoie 15 38\n",
    "myFunction() # appelle la fonction, renvoie 20 38\n",
    "print(p, q) # renvoie 15 38"
   ]
  },
  {
   "cell_type": "markdown",
   "metadata": {},
   "source": [
    "Cependant, on peut modifier ce comportement par défaut en permettant à la fonction de modifier la valeur de la variable globale. Dans ce cas, il faut explicitement définir la variable\n",
    "comme global à l’intérieur de la fonction. Exemple:"
   ]
  },
  {
   "cell_type": "code",
   "execution_count": 6,
   "metadata": {},
   "outputs": [
    {
     "name": "stdout",
     "output_type": "stream",
     "text": [
      "15 38\n",
      "20 38\n",
      "20 38\n"
     ]
    }
   ],
   "source": [
    "def myFunction():\n",
    "    global p\n",
    "    p = 20\n",
    "    print(p, q)\n",
    "p=15\n",
    "q=38\n",
    "print(p, q) # renvoie 15 38\n",
    "myFunction() # appelle la fonction, renvoie 20 38\n",
    "print(p, q) # renvoie 20 38"
   ]
  },
  {
   "cell_type": "markdown",
   "metadata": {},
   "source": [
    "### <b> <span style=\"color:brown;\"> 0.6. Nombre d’arguments arbitraire </span> </b> \n",
    "\n",
    "#### <b> <span style=\"color:green;\"> 0.6.0. Passage d’un tuple </span> </b> \n",
    "\n",
    "```python\n",
    "def somme(*args):\n",
    "    \"\"\"\" Renvoie la somme de <tuple>.\"\"\"\n",
    "    resultat = 0\n",
    "    for nombre in args:\n",
    "        resultat += nombre\n",
    "    return resultat\n",
    "\n",
    "# Exemples d’appel :\n",
    "print(somme(23)) # 23\n",
    "print(somme(23, 42, 13)) # 78\n",
    "```"
   ]
  },
  {
   "cell_type": "code",
   "execution_count": 14,
   "metadata": {},
   "outputs": [
    {
     "name": "stdout",
     "output_type": "stream",
     "text": [
      "23\n",
      "78\n"
     ]
    }
   ],
   "source": [
    "def somme(*args):\n",
    "    \"\"\"\" Renvoie la somme de <tuple>.\"\"\"\n",
    "    resultat = 0\n",
    "    for nombre in args:\n",
    "        resultat += nombre\n",
    "    return resultat\n",
    "\n",
    "# Exemples d’appel :\n",
    "print(somme(23)) # 23\n",
    "print(somme(23, 42, 13)) # 78"
   ]
  },
  {
   "cell_type": "markdown",
   "metadata": {},
   "source": [
    "Si la fonction possède plusieurs arguments, le *tuple* est en dernière position. Il est aussi possible de passer un tuple (en fait une séquence) à l’appel qui sera décompressé\n",
    "en une liste de paramètres d’une fonction « classique » :\n",
    "\n",
    "```python\n",
    "   def somme(a, b, c):\n",
    "        return a+b+c\n",
    "    \n",
    "   # Exemple d’appel :\n",
    "   elements = (2, 4, 6)\n",
    "   print(somme(*elements)) # 12\n",
    "\n",
    "```"
   ]
  },
  {
   "cell_type": "code",
   "execution_count": 15,
   "metadata": {},
   "outputs": [
    {
     "name": "stdout",
     "output_type": "stream",
     "text": [
      "12\n"
     ]
    }
   ],
   "source": [
    "def somme(a, b, c):\n",
    "        return a+b+c\n",
    "    \n",
    "# Exemple d’appel :\n",
    "elements = (2, 4, 6)\n",
    "print(somme(*elements)) # 12"
   ]
  },
  {
   "cell_type": "markdown",
   "metadata": {},
   "source": [
    "#### <b> <span style=\"color:green;\"> 0.6.1. Passage d’un dictionnaire </span> </b> \n",
    "\n",
    "```python\n",
    "def unDict(**kargs):\n",
    "    return kargs\n",
    "\n",
    "# Exemples d’appels\n",
    "## par des paramètres nommés :\n",
    "print(unDict(a=23, b=42)) # {’a’: 23, ’b’: 42}\n",
    "\n",
    "## en fournissant un dictionnaire :\n",
    "mots = {'d': 85, 'e': 14, 'f':9}\n",
    "print(unDict(**mots)) # {’e’: 14, ’d’: 85, ’f’: 9}\n",
    "```\n"
   ]
  },
  {
   "cell_type": "code",
   "execution_count": 16,
   "metadata": {},
   "outputs": [
    {
     "name": "stdout",
     "output_type": "stream",
     "text": [
      "{'a': 23, 'b': 42}\n",
      "{'d': 85, 'e': 14, 'f': 9}\n"
     ]
    }
   ],
   "source": [
    "def unDict(**kargs):\n",
    "    return kargs\n",
    "\n",
    "# Exemples d’appels\n",
    "\n",
    "## par des paramètres nommés :\n",
    "print(unDict(a = 23, b = 42)) # {’a’: 23, ’b’: 42}\n",
    "\n",
    "## en fournissant un dictionnaire :\n",
    "mots = {'d': 85, 'e': 14, 'f':9}\n",
    "print(unDict(**mots)) # {’e’: 14, ’d’: 85, ’f’: 9}"
   ]
  },
  {
   "cell_type": "markdown",
   "metadata": {},
   "source": [
    "### <b> <span style=\"color:brown;\"> 0.7. Documenter une fonction </span> </b> \n",
    "\n",
    "Après avoir élaboré une fonction (surtout une fonction relativement long et complexe), il et\n",
    "fortement de la documenter afin de permettre à d’autres utilisateurs de se l’approprier\n",
    "rapidement. La documentation d’une fonction est généralement une chaîne de caractères qui\n",
    "fournit une générale de la fonction ainsi que les aides utiles. Cette description est\n",
    "généralement spécifiée après la déclaration du nom de la fonction avant la définition des\n",
    "autres blocs d’instructions. L’exemple ci-dessous illustre comment documenter une fonction et\n",
    "comment accéder à cette document en cas de besoin."
   ]
  },
  {
   "cell_type": "code",
   "execution_count": 47,
   "metadata": {},
   "outputs": [],
   "source": [
    "def volumeSphere():\n",
    "    \"\"\" Calcul du volume d'un cube. Un argument obligatoire r: représente le rayon du cercle.\"\"\"\n",
    "    r = float(input(\"Saisir le rayon de la sphère\"))\n",
    "    PI = 3.14\n",
    "    return (4 * PI * r**3)/3"
   ]
  },
  {
   "cell_type": "markdown",
   "metadata": {},
   "source": [
    "Dans la définition de la fonction volumeSphere, la chaine de caractères ne joue aucun rôle\n",
    "fonctionnel dans le script : elle est traitée par Python comme un simple commentaire, mais qui\n",
    "est mémorisé comme une documentation interne sur la fonction. Cette document est stockée\n",
    "dans un attribut appelé `__doc__`. Pour afficher cette attribut, on fait:"
   ]
  },
  {
   "cell_type": "code",
   "execution_count": 48,
   "metadata": {},
   "outputs": [
    {
     "name": "stdout",
     "output_type": "stream",
     "text": [
      " Calcul du volume d'un cube. Un argument obligatoire r: représente le rayon du cercle.\n"
     ]
    }
   ],
   "source": [
    "print(volumeSphere.__doc__)"
   ]
  },
  {
   "cell_type": "markdown",
   "metadata": {},
   "source": [
    "## <b> <span style=\"color:orange;\"> 1. Modules </span> </b>\n",
    "\n",
    "\n",
    "Un programme Python est généralement composé de plusieurs fichiers sources, appelés *modules*. Leur nom est suffixé `.py`. S'ils sont correctement codés les modules doivent être indépendants les uns des autres pour être réutilisés à la demande dans d’autres programmes.\n",
    "\n",
    "`Les modules sont des fichiers qui regroupent des ensembles de fonctions`.\n",
    "\n",
    "\n",
    "Un **module** est un fichier indépendant permettant de scinder un programme en plusieurs scripts. Ce mécanisme permet d'élaborer efficacement des bibliothèques de fonctions ou de classes.\n",
    "\n",
    "Avantages des modules :\n",
    "- réutilisation du code ;\n",
    "- la documentation et les tests peuvent être intégrés au module ;\n",
    "- réalisation de services ou de données partagés ;\n",
    "- partition de l’espace de noms du système.\n",
    "\n",
    "Tout comme les dictionnaires sont des collections d’objets (listes, tuples, set, etc..), les\n",
    "modules sont des collections de fonctions qui permettent de réalisées des tâches apparentées.\n",
    "Par exemple, le module math, contient un certain nombre de fonctions mathématiques telles\n",
    "que sinus, cosinus, tangente, racine carrée, etc. De nombreux modules sont déjà pré-installés dans la bibliothèque standard de python.\n",
    "\n",
    "Toutefois, pour réaliser certaines tâches spécifiques, on est souvent amené à installer des\n",
    "modules supplémentaires (ex : `numpy`, `scipy`, `matplotlib`, `pandas`, etc..)"
   ]
  },
  {
   "cell_type": "markdown",
   "metadata": {},
   "source": [
    "### <b> <span style=\"color:orange;\"> 1.0. Import d’un module </span> </b>\n",
    "\n",
    "\n",
    "Deux syntaxes possibles :\n",
    "    \n",
    "- la commande `import nom_module` importe la totalité des objets du module :  \n",
    "  ```python\n",
    "     import tkinter\n",
    "  ```\n",
    "  \n",
    "- la commande `from <nom_module> import obj1, obj2`... n’importe que les objets `obj1, obj2...` du module : \n",
    "  ```python\n",
    "     from math import pi, sin, log\n",
    "  ```\n",
    "  \n",
    "Il est conseillé d’importer dans l’ordre :\n",
    "\n",
    "- les modules de la bibliothèque standard ;\n",
    "- les modules des bibliothèques tierces ;\n",
    "- les modules personnels.  "
   ]
  },
  {
   "cell_type": "markdown",
   "metadata": {},
   "source": [
    "#### <b> <span style=\"color:green;\"> 1.0.0. La bibliothèque standard </span> </b>\n",
    "\n",
    "On dit souvent que Python est livré « piles comprises » (batteries included) tant sa bibliothèque standard, riche de plus de $200$ packages et modules, répond aux problèmes courants les plus variés."
   ]
  },
  {
   "cell_type": "code",
   "execution_count": null,
   "metadata": {},
   "outputs": [],
   "source": [
    "import math\n",
    "dir(math)  # Pour voir l’ensemble des fonction qui forment le module."
   ]
  },
  {
   "cell_type": "code",
   "execution_count": null,
   "metadata": {},
   "outputs": [],
   "source": [
    "help(math.gamma) # renvoie l’aide sur la fonction gamma du module math"
   ]
  },
  {
   "cell_type": "code",
   "execution_count": null,
   "metadata": {},
   "outputs": [],
   "source": [
    "from math import sin # Importe la fonction sinus\n",
    "from math import cos, sin, tan, pi # Importe respectivement les fonction cosinus, sinus, tangente et la valeur pi (3.14)."
   ]
  },
  {
   "cell_type": "code",
   "execution_count": null,
   "metadata": {},
   "outputs": [],
   "source": [
    "from math import * # Importe toutes les fonction associées à math (équivalent à import math)"
   ]
  },
  {
   "cell_type": "markdown",
   "metadata": {},
   "source": [
    "<left> <b> <span style=\"color:brown;\">Quelques utilisations de la fonction math : </span> </b></left>\n",
    "```python\n",
    "   from math import *\n",
    "    v=16 # définit une variable v\n",
    "    x = math.sqrt (v) # Renvoie la racine carrée de v\n",
    "    y = math.e(v) # Renvoie l’exponentiel de v\n",
    "    z = math.log(v) # Renvoie le logarithme népérien de v\n",
    "\n",
    "```"
   ]
  },
  {
   "cell_type": "markdown",
   "metadata": {},
   "source": [
    "<left> <b> <span style=\"color:brown;\">Quelques exemples d’utilisation du module random: </span> </b></left>\n",
    "\n",
    "```python\n",
    "   from random import random, randint, seed, uniform, randrange,sample, shuffle # Importe quelques fonctions utiles de random\n",
    " \n",
    "```"
   ]
  },
  {
   "cell_type": "code",
   "execution_count": null,
   "metadata": {},
   "outputs": [],
   "source": [
    "import random\n",
    "x=random.random() # Renvoie un nombre aléatoire.\n",
    "print(x)"
   ]
  },
  {
   "cell_type": "code",
   "execution_count": null,
   "metadata": {},
   "outputs": [],
   "source": [
    "import random\n",
    "x=random.randint(5,17) # Renvoie un nombre aléatoire entier entre 5 et 17.\n",
    "print(x)"
   ]
  },
  {
   "cell_type": "code",
   "execution_count": null,
   "metadata": {},
   "outputs": [],
   "source": [
    "import random\n",
    "x=random.uniform(5,17) # Renvoie un nombre aléatoire uniforme réel entre 5 et 17.\n",
    "print(x)"
   ]
  },
  {
   "cell_type": "markdown",
   "metadata": {},
   "source": [
    "## Amusez a regarder les modules `turtle`, `time`, `decimal`, `fractions`, `cmath`."
   ]
  },
  {
   "cell_type": "markdown",
   "metadata": {},
   "source": [
    "#### <b> <span style=\"color:green;\"> 1.0.1. Les bibliothèques tierces </span> </b>\n",
    "\n",
    "\n",
    "Outre les modules intégrés à la distribution standard de Python, on trouve des biblio-\n",
    "thèques dans tous les domaines :\n",
    "\n",
    "- scientifique ;\n",
    "- bases de données ;\n",
    "- tests fonctionnels et contrôle de qualité ;\n",
    "- 3D ;\n",
    "- $\\cdots$\n",
    "\n",
    "Le site [PYPI](pypi.python.org/pypi) (Python Package Index) recense des milliers de modules et de paquets!"
   ]
  },
  {
   "cell_type": "markdown",
   "metadata": {},
   "source": [
    "### <b> <span style=\"color:orange;\"> 1.1. Définir et utiliser son propre module </span> </b>\n",
    "\n",
    "On peut créer son propre module en rassemblant plusieurs fonctions dans un seul script et en l'enregistrant dans le répertoire courant avec l’extension `.py`. Le nom doit être un nom simple ne créant pas d’ambiguïté avec d’autres objets python. On peut choisir par exemple : `myprogram.py`.\n",
    "Une fois que le programme est enregistré dans le répertoire courant, il suffit d’importer le\n",
    "module comme un module classique et toutes ses fonctions (et variables) deviennent toute\n",
    "accessibles. L’appel du module sefait avec la commande:\n",
    "\n",
    "```python\n",
    "   import myprogram\n",
    "```\n",
    "\n",
    "Ensuite on peut utiliser les fonctions du module comme avec un module classique. Example:"
   ]
  },
  {
   "cell_type": "markdown",
   "metadata": {},
   "source": [
    "Ouvrez votre éditeur de texte préféré et ecrivez-y le code ci-dessous. Vous enregistrerez ensuite le fichier\n",
    "sous le nom de `cube_m.py`\n",
    "\n",
    "```python\n",
    "# Un module appelé cube_m.py\n",
    "    def cube(y):\n",
    "        \"\"\"Calcule le cube du paramètre <y>.\"\"\"\n",
    "        return y**3\n",
    "```    "
   ]
  },
  {
   "cell_type": "code",
   "execution_count": 53,
   "metadata": {},
   "outputs": [
    {
     "name": "stdout",
     "output_type": "stream",
     "text": [
      "Help on function cube in module cube_m:\n",
      "\n",
      "cube(y)\n",
      "    Calcule le cube du paramètre <y>.\n",
      "\n",
      "========================================\n",
      "cube de 1 = 1 cube de 2 = 8 cube de 3 = 27 "
     ]
    }
   ],
   "source": [
    "# Utilisation de ce module. \n",
    "\n",
    "# On importe la fonction cube() incluse dans le fichier cube_m.py :\n",
    "from cube_m import cube\n",
    "\n",
    "# Affiche le docstring de la fonction\n",
    "help(cube)\n",
    "print(\"========================================\")\n",
    "\n",
    "\n",
    "for i in range(1, 4):\n",
    "    print(\"cube de\", i, \"=\", cube(i), end=\" \")\n",
    "# cube de 1 = 1 cube de 2 = 8 cube de 3 = 27"
   ]
  },
  {
   "cell_type": "markdown",
   "metadata": {},
   "source": [
    "**** \n",
    "<left> <b> <span style=\"color:brown;\">Exercice: </span> </b></left>\n",
    "\n",
    "En vous inspirant de l'exemple ci-dessus, créez trois (3) modules:\n",
    " 1. Le premier module `summing.py` qui contiendra deux fonctions `adding` et `substracting` qui font respectivement la somme \n",
    "    et la différence de deux nombres réels.\n",
    " 2. Le deuxième module `multiply.py` qui contiendra deux fonctions `multiplying` et `dividing` qui font respectivement le   \n",
    "    produit et la division de deux nombres réels. \n",
    " 3. Le troisième module `power.py` qui contiendra deux fonctions `exponenting` et `loging` qui prennent respectivement \n",
    "    l'exponentiel et le logarithme d'un nombre réel.  \n",
    "    \n",
    " \n",
    "Pour une liste `L` de nombres entiers naturels, il vous est demandé d'extraire les sous-listes `L1` des entiers pairs et `L2` des entiers impairs. Si on désigne par $n = \\min\\{$len(L1),len(L2)\\} $\\}$, la liste `L1_n` est définie par `L1[:n]` et la liste `L2_n` est définie par `L2[:n]`. POur un indice $i, i=1,2,\\cdots, n$ donné, affichez:\n",
    "   . `adding(L1_n[i], L2_n[i])` si $i$ est pair et;\n",
    "   . `dividing(L1_n[i], L2_n[i])`si $i$ est impair.\n",
    "\n",
    "Pour la liste `l` pour laquelle `len(l)>n`, l'on calculera `exponenting(l[j])` pour $j, j=n, \\cdots, len(L).$\n",
    "\n",
    "NB: Il ne serait pas optimal d'importer tous les modules que vous avez créés.\n",
    "\n",
    "\n",
    "**Example:**\n",
    "\n",
    "Si le programme prend en entrée L = [1,2,3,4,5,6,7,8,9]. On aura alors L1 = [2,4,6,8] et L2 = [1,3,5,7,9] et $n = 4.$ Le programme retournera donc:\n",
    "\n",
    "\n",
    "[2+1, 6+5] = [3, 11]\n",
    "\n",
    "[4/3,8/7] = [1.3333333333333333, 1.1428571428571428] et \n",
    "\n",
    "[exp(9)] = [8103.083927575384]\n",
    "\n",
    "****"
   ]
  },
  {
   "cell_type": "markdown",
   "metadata": {},
   "source": [
    "## <b> <span style=\"color:orange;\"> 2. Paquets </span> </b>\n",
    "\n",
    "Un deuxième niveau d'organisation permet de structurer le code : les fichiers Python\n",
    "peuvent être organisés dans une arborescence de répertoires que l'on appelle `package` ou `paquet`.\n",
    "\n",
    "Plus simplement, un *package* ou _paquet_ est un module contenant d’autres modules. Les modules d'un package\n",
    "peuvent être des *sous-packages*, ce qui donne une structure arborescente. En résumé, un package est simplement un répertoire qui contient des modules et un fichier `__init__.py` décrivant l’arborescence du package. Example:"
   ]
  },
  {
   "cell_type": "markdown",
   "metadata": {},
   "source": [
    "## Dans un terminal (bash/cmd), faites:\n",
    "\n",
    "- `mkdir monpackage`  \n",
    "\n",
    "- `cd monpackage` -- si vous utilisez Windows, faites  `dir monpackage`\n",
    "\n",
    "- `touch __init__.py` -- si vous utilisez Windows, faites  `notepad __init__.py`\n",
    "\n",
    "- `touch mesfonctions.py` -- si vous utilisez Windows, faites  `notepad mesfonctions.py`\n",
    "\n",
    "  - ce fichier contient deux fonctions python:\n",
    "  \n",
    "     ```python\n",
    "        def additionner(a,b):\n",
    "            return a + b\n",
    " \n",
    "        def soustraire(a,b):\n",
    "            retunr a - b\n",
    "     ```\n",
    "- `touch mesattributs.py` -- si vous utilisez Windows, faites  `notepad mesattributs.py`\n",
    "\n",
    "    - ce fichier contient deux constantes\n",
    "   ```python\n",
    "      x = 100\n",
    "      y = 95\n",
    "   ```"
   ]
  },
  {
   "cell_type": "code",
   "execution_count": 63,
   "metadata": {},
   "outputs": [],
   "source": [
    "# Importer `mesfonctions` de mon paquet\n",
    "from monpackage import mesfonctions"
   ]
  },
  {
   "cell_type": "code",
   "execution_count": 64,
   "metadata": {},
   "outputs": [
    {
     "data": {
      "text/plain": [
       "True"
      ]
     },
     "execution_count": 64,
     "metadata": {},
     "output_type": "execute_result"
    }
   ],
   "source": [
    "# Faire un test avec 23 et 89 sur la fonction `additionner`\n",
    "mesfonctions.additionner(23,89) == 112  # Retourne True"
   ]
  },
  {
   "cell_type": "code",
   "execution_count": 65,
   "metadata": {},
   "outputs": [],
   "source": [
    "# Importer `mesattributs` de mon paquet\n",
    "from monpackage import mesattributs"
   ]
  },
  {
   "cell_type": "code",
   "execution_count": 66,
   "metadata": {},
   "outputs": [
    {
     "data": {
      "text/plain": [
       "True"
      ]
     },
     "execution_count": 66,
     "metadata": {},
     "output_type": "execute_result"
    }
   ],
   "source": [
    "# Faire un test sur la valeux `x` de l'attribut\n",
    "mesattributs.x == 100 # Retourne True"
   ]
  }
 ],
 "metadata": {
  "kernelspec": {
   "display_name": "Python 3",
   "language": "python",
   "name": "python3"
  },
  "language_info": {
   "codemirror_mode": {
    "name": "ipython",
    "version": 3
   },
   "file_extension": ".py",
   "mimetype": "text/x-python",
   "name": "python",
   "nbconvert_exporter": "python",
   "pygments_lexer": "ipython3",
   "version": "3.7.4"
  },
  "varInspector": {
   "cols": {
    "lenName": 16,
    "lenType": 16,
    "lenVar": 40
   },
   "kernels_config": {
    "python": {
     "delete_cmd_postfix": "",
     "delete_cmd_prefix": "del ",
     "library": "var_list.py",
     "varRefreshCmd": "print(var_dic_list())"
    },
    "r": {
     "delete_cmd_postfix": ") ",
     "delete_cmd_prefix": "rm(",
     "library": "var_list.r",
     "varRefreshCmd": "cat(var_dic_list()) "
    }
   },
   "types_to_exclude": [
    "module",
    "function",
    "builtin_function_or_method",
    "instance",
    "_Feature"
   ],
   "window_display": false
  }
 },
 "nbformat": 4,
 "nbformat_minor": 2
}
