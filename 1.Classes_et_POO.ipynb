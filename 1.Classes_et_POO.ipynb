{
 "cells": [
  {
   "cell_type": "markdown",
   "metadata": {},
   "source": [
    "****\n",
    "\n",
    "# <center> <b> <span style=\"color:orange;\"> Programmation en Python </span> </b></center>\n",
    "\n",
    "\n",
    "### <center> <b> <span style=\"color:blue;\">Classes et POO </span> </b></center>\n",
    "\n",
    "\n",
    "\n",
    "\n",
    "****\n",
    "\n",
    "\n",
    "\n",
    "### <left> <b> <span style=\"color:brown;\">Instructeur : </span> </b></left>[Yaé Ulrich Gaba](https://github.com/gabayae)\n",
    "\n",
    "\n",
    "> **Résumé:** Ce calepin présente les principes généraux de la Programmation Orientée Objet (POO)\n",
    "appliqués à Python. Un objet est une entité de programmation, disposant de ses propres états et fonctionnalités. C’est le concept central de la POO. \n",
    "\n",
    "****"
   ]
  },
  {
   "cell_type": "markdown",
   "metadata": {},
   "source": [
    "Dès qu’un programme **grossit**, une structuration en `classes`, `modules` et `paquets` facilite grandement son **évolution**, sa **lisibilité** et sa **maintenance**. Même si elle n’est pas imposée, Python permet la programmation orientée objet.\n",
    "Tous les mécanismes objet essentiels sont implémentés et toutes les données manipulées sont des instances de classes.\n",
    "\n",
    "****\n",
    "\n",
    "La *Programmation Orientée Objet (POO)* :\n",
    "\n",
    "- La POO permet de mieux modéliser la réalité en concevant des ensembles d’objets, les *classes*.\n",
    "- Ces classes permettent de construire des *objets* interactifs entre eux et avec le monde extérieur.\n",
    "- Les objets sont créés indépendamment les uns des autres, grâce à *l’encapsulation*, mécanisme qui permet d’embarquer leurs propriétés.\n",
    "- Les classes permettent d’éviter au maximum l’emploi des variables globales.\n",
    "- Enfin les classes offrent un moyen économique et puissant de construire de nouveaux objets à partir d’objets préexistants."
   ]
  },
  {
   "cell_type": "markdown",
   "metadata": {},
   "source": [
    "Au concept d’objet sont liées les notions de :\n",
    "    \n",
    "- **Classe** : il s’agit d’un *modèle* d’objet, dans lequel sont définis ses propriétés usuelles. P.ex. la classe\n",
    "__Forme__ peut représenter une forme plane caractérisée par sa couleur, et disposant de fonctionnalités\n",
    "propres, p.ex. `change_couleur()`.\n",
    "\n",
    "- **Instantiation** : c’est le fait générer un objet concret (une *instance*) à partir d’un modèle (une\n",
    "classe). P.ex. rosie = __Forme('rose')__ crée une instance rosie à partir de la classe __Forme__ et d’une\n",
    "couleur (chaîne de caractères __'rose'__).\n",
    "\n",
    "- **Attributs** : variables internes décrivant l’état de l’objet. P.ex., `rosie.couleur` donne la couleur\n",
    "de la __Forme__ *rosie*.\n",
    "\n",
    "- **Méthodes** : fonctions internes, s’appliquant en premier lieu sur l’objet lui-même (*self*), décrivant\n",
    "les capacités de l’objet. P.ex. `rosie.change_couleur('bleu')` change la  couleur de la __Forme__ *rosie*.   \n",
    "<left> <b> <span style=\"color:brown;\"> Toutes les méthodes d’une classe doivent au moins prendre self – représentant\n",
    "l’objet lui-même – comme premier argument.</span> </b></left>\n",
    "\n",
    "- **Surcharge d’opérateurs** : cela permet de redéfinir les opérateurs et fonctions usuels (`+, abs(),str()`, etc.), pour simplifier l’écriture d’opérations sur les objets. Ainsi, on peut redéfinir les\n",
    "opérateurs de comparaison (`<, >=`, etc.) dans la classe **Forme** pour que les opérations du genre\n",
    "`forme1 < forme2` aient un sens (p.ex. en comparant les aires).\n",
    "[Liste des méthodes standard et des surcharges d’opérateur](http://rgruet.free.fr/PQR26/PQR2.6.html#SpecialMethods)\n",
    "\n",
    "- **Héritage de classe** : il s’agit de définir une classe à partir d’une (ou plusieurs) classe(s) pa-\n",
    "rente(s). La nouvelle classe *hérite* des attributs et méthodes de sa (ses) parente(s), que l’on peut\n",
    "alors modifier ou compléter. P.ex. la classe __Rectangle__ hérite de la classe __Forme__ (elle partage la\n",
    "notion de couleur et d’aire), et lui ajoute des méthodes propres à la notion de rectangle (p.ex.\n",
    "formule explicite de l’aire, étirement).\n",
    "\n",
    "<left> <b> <span style=\"color:brown;\">Toutes les classes doivent au moins hériter de la classe principale `object`.</span> </b></left>"
   ]
  },
  {
   "cell_type": "markdown",
   "metadata": {},
   "source": [
    "Dans cette section, nous présentons une ébauche de classe pour programmer quelques objets mathématiques. Nous allons partir d’un exemple concret, à savoir la notion de `polynôme` bien connue de la communauté scientifique. \n",
    "\n",
    "La manière la plus naturelle de représenter un polynôme $p(X) = a_0 + a_1 X + \\cdots + a_n X^n$ est d’utiliser une liste contenant ses coefficients $[a_0 , a_1 , \\cdots , a_n ]$. Si l’on dispose alors de deux listes `p1` et `p2` représentant\n",
    "deux polynômes, on souhaiterait pouvoir les additionner en utilisant l’opérateur `+`. De plus, on souhaiterait pouvoir afficher le polynôme de manière `conventionnelle`. \n",
    "\n",
    "\n",
    "C’est ici que la définition d’une classe nous permettra de définir de nouvelles fonctions (les méthodes) propres aux plynômes.\n",
    "Pour créer un classe, on utilise le mot-clé `class`:"
   ]
  },
  {
   "cell_type": "code",
   "execution_count": 3,
   "metadata": {},
   "outputs": [],
   "source": [
    "class Polynome:\n",
    "    \"\"\"Classe qui illustre la POO en Python sur des polynomes.\"\"\"\n",
    "    pass\n",
    "\n",
    "# Comme cette classe ne contient aucune methode, on utilise `pass` pour ne pas avoir d'erreurs."
   ]
  },
  {
   "cell_type": "markdown",
   "metadata": {},
   "source": [
    "Comme dans le cas des fonctions, la `docstring` est indispensable."
   ]
  },
  {
   "cell_type": "markdown",
   "metadata": {},
   "source": [
    "Ensuite, il faut définir le **constructeur** de la classe, c’est-à-dire la méthode qui nous permettra de créer (ou d’**instancier**) un objet de la classe **Polynome**. Le constructeur a toujours pour nom `__init__()` et prend en argument au moins un paramètre appelé `self`. Ce paramètre `self` fera toujours référence à l’objet instancié (à savoir ici un polynôme)."
   ]
  },
  {
   "cell_type": "code",
   "execution_count": 4,
   "metadata": {},
   "outputs": [],
   "source": [
    "class Polynome:\n",
    "    \n",
    "    \"\"\"Classe qui illustre la POO en Python sur des polynomes.\"\"\"\n",
    "    \n",
    "    def __init__(self, coefficients):\n",
    "        \"\"\"Initialisateur, permet de récuperer les coefficients du polynôme.\"\"\"\n",
    "        self.coeffs = coefficients"
   ]
  },
  {
   "cell_type": "markdown",
   "metadata": {},
   "source": [
    "Pour créer un objet de la classe polynôme, il nous suffira alors d’utiliser la syntaxe suivante :"
   ]
  },
  {
   "cell_type": "code",
   "execution_count": 5,
   "metadata": {},
   "outputs": [
    {
     "data": {
      "text/plain": [
       "<__main__.Polynome at 0x23c434d1908>"
      ]
     },
     "execution_count": 5,
     "metadata": {},
     "output_type": "execute_result"
    }
   ],
   "source": [
    "# N'oublions pas à ce niveau que les coefficients sont donnés par une liste, en suivant notre représentation.\n",
    "p = Polynome([3, -2, 1]) # représente le polynôme 3-2.X+X^2\n",
    "p_00 =  Polynome([2,0,7,1])  # représente le polynôme 2+7.X^2+X^3\n",
    "p # Il retourne l'objet que nous venons de créer.\n",
    "# p_00"
   ]
  },
  {
   "cell_type": "markdown",
   "metadata": {},
   "source": [
    "Vu que le polynôme a été définie par la donnée de la liste de ses coefficients et on peut le vérifier cette liste en faisant `p.coeffs`."
   ]
  },
  {
   "cell_type": "code",
   "execution_count": 6,
   "metadata": {},
   "outputs": [
    {
     "data": {
      "text/plain": [
       "[3, -2, 1]"
      ]
     },
     "execution_count": 6,
     "metadata": {},
     "output_type": "execute_result"
    }
   ],
   "source": [
    "p.coeffs\n",
    "# p1.coeffs"
   ]
  },
  {
   "cell_type": "markdown",
   "metadata": {},
   "source": [
    "On va munir à présent les objets **Polynome** d'une méthode renvoyant le degré du polynôme:"
   ]
  },
  {
   "cell_type": "code",
   "execution_count": 7,
   "metadata": {},
   "outputs": [],
   "source": [
    "class Polynome:\n",
    "    \n",
    "    \"\"\"Classe qui illustre la POO en Python sur des polynomes.\"\"\"\n",
    "    \n",
    "    def __init__(self, coefficients):\n",
    "        \"\"\"Initialisateur, permet de récuperer les coefficients du polynome.\"\"\"\n",
    "        self.coeffs = coefficients\n",
    "        \n",
    "        \n",
    "    def deg(self):\n",
    "        \"\"\"Permet d'obtenir le degre du polynome.\"\"\"\n",
    "        n = len(self.coeffs)\n",
    "        #for i, c in enumerate(reversed(self.coeffs)):\n",
    "            #if c != 0:\n",
    "                #return n-1-i\n",
    "        #return -1\n",
    "        # Nous faisons ici implicitement la convention que l'on \n",
    "        return n-1"
   ]
  },
  {
   "cell_type": "markdown",
   "metadata": {},
   "source": [
    "Pour appliquer cette méthode à un polynôme, on préfixera le nom de l’objet au nom de la\n",
    "méthode :"
   ]
  },
  {
   "cell_type": "code",
   "execution_count": 17,
   "metadata": {},
   "outputs": [],
   "source": [
    "p = Polynome([3, -2, 1]) # représente le polynôme 3-2.X+X^2\n",
    "p_00 = Polynome([2,0,7,5]) # représente le polynôme 2+7.X^2+5.X^3"
   ]
  },
  {
   "cell_type": "code",
   "execution_count": 9,
   "metadata": {},
   "outputs": [
    {
     "data": {
      "text/plain": [
       "3"
      ]
     },
     "execution_count": 9,
     "metadata": {},
     "output_type": "execute_result"
    }
   ],
   "source": [
    "p_00.deg()"
   ]
  },
  {
   "cell_type": "markdown",
   "metadata": {},
   "source": [
    "On souhaiterait à présent définir l’addition de deux polynômes. Une première façon de faire consisterait à définir une méthode `ajoute()`. Pour ajouter deux polynômes, on écrirait alors `p1.ajoute(p2)`. L’idéal serait de pouvoir écrire plus simplement `p1 + p2`. Pour cela, on va redéfinir (ou plus exactement *surcharger*) la méthode `__add__` définie par défaut à chaque définition de classe (mais dont la définition par défaut ne rend pas cette méthode opérationnelle en général)."
   ]
  },
  {
   "cell_type": "code",
   "execution_count": 10,
   "metadata": {},
   "outputs": [],
   "source": [
    "class Polynome:\n",
    "    \n",
    "    \"\"\"Classe qui illustre la POO en Python sur des polynômes.\"\"\"\n",
    "    \n",
    "    def __init__(self, coefficients):\n",
    "        \"\"\"Initialisateur, permet de recuperer les coefficients du polynôme.\"\"\"\n",
    "        self.coeffs = coefficients\n",
    "        \n",
    "    def deg(self):\n",
    "        \"\"\"Permet d'obtenir le degré du polynôme.\"\"\"\n",
    "        n = len(self.coeffs)\n",
    "        #for i, c in enumerate(reversed(self.coeffs)):\n",
    "            #if c != 0:\n",
    "                #return n-1-i\n",
    "        #return -1\n",
    "        # Nous faisons ici implicitement la convention que l'on \n",
    "        return n-1\n",
    "\n",
    "\n",
    "    def __add__(self, other):\n",
    "        \"\"\"Surcharge par la fonction `add()`\"\"\"\n",
    "        \"\"\"Méthode permettant de redéfinir l'opérateur « + » pour 2 polynômes.\"\"\"\n",
    "        if self.deg() < other.deg():\n",
    "            self, other = other, self\n",
    "        tmp = other.coeffs + [0]*(self.deg() - other.deg())\n",
    "        return Polynome([x + y for x, y in zip(self.coeffs, tmp)])"
   ]
  },
  {
   "cell_type": "code",
   "execution_count": 11,
   "metadata": {},
   "outputs": [],
   "source": [
    "p1 = Polynome([3, -4, 6]) \n",
    "p2 = Polynome([-3, -1, 3]) "
   ]
  },
  {
   "cell_type": "markdown",
   "metadata": {},
   "source": [
    "Ainsi, les deux syntaxes suivantes seront possibles :"
   ]
  },
  {
   "cell_type": "code",
   "execution_count": 12,
   "metadata": {},
   "outputs": [
    {
     "data": {
      "text/plain": [
       "<__main__.Polynome at 0x23c434ec508>"
      ]
     },
     "execution_count": 12,
     "metadata": {},
     "output_type": "execute_result"
    }
   ],
   "source": [
    "p1 + p2 # équivaut à p1.__add__(p2)"
   ]
  },
  {
   "cell_type": "markdown",
   "metadata": {},
   "source": [
    "Le résultat semble décevant et ce, même si on utilise la syntaxe `print(p1+p2)` . En fait, au\n",
    "moment de la définition de la classe, chaque objet possède par défaut non seulement une\n",
    "méthode `__add__()` , mais aussi une méthode` __str__()` qui est à surcharger par la suite\n",
    "pour personnaliser le type d’affichage d’un objet de la classe.  La liste des méthodes fournies par défaut au moment de la définition d’une classe se trouve [ici](http://docs.python.org/py3k/reference/datamodel.html). Des exempls peuvent tre lus sur [cette page](https://denishulo.developpez.com/tutoriels/python/surcharge-operateurs/#LIII-A) ou [celle-ci](http://lepython.com/classes-et-objets/).\n",
    "\n",
    "Dans le cas présent, ce que nous pourrions faire est donc ceci:"
   ]
  },
  {
   "cell_type": "code",
   "execution_count": 13,
   "metadata": {},
   "outputs": [],
   "source": [
    "class Polynome:\n",
    "    def __init__(self, coefficients):\n",
    "        self.coeffs = coefficients\n",
    "        \n",
    "    def deg(self):\n",
    "        n = len(self.coeffs)\n",
    "        #for i, c in enumerate(reversed(self.coeffs)):\n",
    "            #if c != 0:\n",
    "                #return n-1-i\n",
    "        #return -1\n",
    "        # Nous faisons ici implicitement la convention que l'on \n",
    "        return n-1\n",
    "\n",
    "\n",
    "    def __add__(self, other):\n",
    "        if self.deg() < other.deg():\n",
    "            self, other = other, self\n",
    "        tmp = other.coeffs + [0]*(self.deg() - other.deg())\n",
    "        return Polynome([x+y for x, y in zip(self.coeffs, tmp)]) \n",
    "    \n",
    "    def str_monome(self, i, c):\n",
    "        coeffs = '{}'.format(c) if c >= 0 else '({})'.format(c)\n",
    "        indet = ('.X^{}'.format(i) if i > 1\n",
    "                else ('.X' if i == 1 else ''))\n",
    "        return ''.join([coeffs, indet])\n",
    "    \n",
    "    \n",
    "    def __str__(self):\n",
    "        chaine = ' + '.join(self.str_monome(i, c)\n",
    "                for i, c in enumerate(self.coeffs) if c !=0)\n",
    "        chaine = chaine.replace(' 1.', ' ')\n",
    "        return chaine if chaine != '' else '0'"
   ]
  },
  {
   "cell_type": "markdown",
   "metadata": {},
   "source": [
    "Pour améliorer l’affichage d’un polynôme, on a défini une fonction `str_monome()` qui affiche un monôme (par exemple, sous la forme (-2).X^3 ) en rajoutant des parenthèses autour des coefficients négatifs. Bien que cette fonction n’utilise pas le paramètre `self`, il est impératif que ce paramètre figure (et figure en premier) dans la liste des paramètres formels de la fonction `str_monome()`. C’est ce qui permettra d’appeler cette fonction dans une autre méthode\n",
    "de la classe, à savoir ici, la méthode `__str__()`."
   ]
  },
  {
   "cell_type": "code",
   "execution_count": 14,
   "metadata": {},
   "outputs": [
    {
     "name": "stdout",
     "output_type": "stream",
     "text": [
      "3 + (-2).X + X^2\n"
     ]
    }
   ],
   "source": [
    "print(Polynome([3, -2, 1])) # rép.: 3 + (-2).X + X^2"
   ]
  },
  {
   "cell_type": "markdown",
   "metadata": {},
   "source": [
    "De même, on pourrait programmer l’évaluation d’un polynôme en un point (en suivant la [méthode de HÖRNER](https://www.mathweb.fr/euclide/2018/09/01/la-methode-de-horner/)):"
   ]
  },
  {
   "cell_type": "code",
   "execution_count": 15,
   "metadata": {},
   "outputs": [],
   "source": [
    "class Polynome:\n",
    "    def __init__(self, coefficients):\n",
    "        self.coeffs = coefficients\n",
    "        \n",
    "    def deg(self):\n",
    "        n = len(self.coeffs)\n",
    "        #for i, c in enumerate(reversed(self.coeffs)):\n",
    "            #if c != 0:\n",
    "                #return n-1-i\n",
    "        #return -1\n",
    "        # Nous faisons ici implicitement la convention que l'on \n",
    "        return n-1\n",
    "\n",
    "\n",
    "    def __add__(self, other):\n",
    "        if self.deg() < other.deg():\n",
    "            self, other = other, self\n",
    "        tmp = other.coeffs + [0]*(self.deg() - other.deg())\n",
    "        return Polynome([x + y for x, y in zip(self.coeffs, tmp)]) \n",
    "    \n",
    "    \n",
    "    def __str__(self):\n",
    "        chaine = ' + '.join(self.str_monome(i, c)\n",
    "                for i, c in enumerate(self.coeffs) if c !=0)\n",
    "        chaine = chaine.replace(' 1.', ' ')\n",
    "        return chaine if chaine != '' else '0'\n",
    "\n",
    "\n",
    "\n",
    "    def __call__(self, x):\n",
    "        \"\"\" Implementation de la méthode de HÖRNER\"\"\"\n",
    "        somme = 0\n",
    "        for c in reversed(self.coeffs):\n",
    "            somme = c + x*somme\n",
    "        return somme"
   ]
  },
  {
   "cell_type": "markdown",
   "metadata": {},
   "source": [
    "Pour l’évaluation, on utiliserait alors la syntaxe :"
   ]
  },
  {
   "cell_type": "code",
   "execution_count": 18,
   "metadata": {},
   "outputs": [
    {
     "data": {
      "text/plain": [
       "2.04"
      ]
     },
     "execution_count": 18,
     "metadata": {},
     "output_type": "execute_result"
    }
   ],
   "source": [
    "p(1.2) # équivalente à p.__call__(1.2)"
   ]
  },
  {
   "cell_type": "markdown",
   "metadata": {},
   "source": [
    "Le produit pourrait se programmer en définissant au préalable une fonction qui calcule le\n",
    "produit d’un polynôme par un monôme de la forme $cX^i$ :"
   ]
  },
  {
   "cell_type": "code",
   "execution_count": 19,
   "metadata": {},
   "outputs": [],
   "source": [
    "class Polynome:\n",
    "    def __init__(self, coefficients):\n",
    "        self.coeffs = coefficients\n",
    "        \n",
    "    def deg(self):\n",
    "        n = len(self.coeffs)\n",
    "        #for i, c in enumerate(reversed(self.coeffs)):\n",
    "            #if c != 0:\n",
    "                #return n-1-i\n",
    "        #return -1\n",
    "        # Nous faisons ici implicitement la convention que l'on \n",
    "        return n-1\n",
    "\n",
    "\n",
    "    def __add__(self, other):\n",
    "        if self.deg() < other.deg():\n",
    "            self, other = other, self\n",
    "        tmp = other.coeffs + [0]*(self.deg() - other.deg())\n",
    "        return Polynome([x+y for x, y in zip(self.coeffs, tmp)]) \n",
    "    \n",
    "    \n",
    "    def str_monome(self, i, c):\n",
    "        coeffs = '{}'.format(c) if c >= 0 else '({})'.format(c)\n",
    "        indet = ('.X^{}'.format(i) if i > 1\n",
    "            else ('.X' if i == 1 else ''))\n",
    "        return ''.join([coeffs, indet])\n",
    "    \n",
    "    def __str__(self):\n",
    "        chaine = ' + '.join(self.str_monome(i, c)\n",
    "                for i, c in enumerate(self.coeffs) if c !=0)\n",
    "        chaine = chaine.replace(' 1.', ' ')\n",
    "        return chaine if chaine != '' else '0'\n",
    "\n",
    "\n",
    "\n",
    "    def __call__(self, x):\n",
    "        somme = 0\n",
    "        for c in reversed(self.coeffs):\n",
    "            somme = c + x*somme\n",
    "        return somme\n",
    "\n",
    "\n",
    "    def mul_monome(self, i, c):\n",
    "        \"\"\"Le produit d’un polynôme par un monôme de la forme cX^i\"\"\"\n",
    "        return Polynome([0]*i + [c * x for x in self.coeffs])\n",
    "\n",
    "    def __mul__(self, other):\n",
    "        \"\"\"Le produit de deux polynômes et qui utilise la fonction mul_monome\"\"\"\n",
    "        tmp = Polynome([0])\n",
    "        for i, c in enumerate(other.coeffs):\n",
    "            tmp += self.mul_monome(i, c)\n",
    "        return tmp"
   ]
  },
  {
   "cell_type": "markdown",
   "metadata": {},
   "source": [
    "Le principal avantage de la notion de classe, est que l’on peut définir des classes dérivées\n",
    "d’une classe qui hériteront des méthodes de la classe parente. Ceci permet d’éviter de répéter\n",
    "des portions de code semblables. Pour définir une classe dérivée d’une classe parente, on\n",
    "utilise la syntaxe :\n",
    " ```python\n",
    "class Dérivée(Parente):\n",
    "\n",
    "```"
   ]
  },
  {
   "cell_type": "markdown",
   "metadata": {},
   "source": [
    "Aisni, pour représenter une fraction rationnelle, on pourrait définir une classe à partir de rien et programmer des méthodes similaires à celles définies pour les polynômes. Mais il est bien plus avantageux de se servir des méthodes programmées dans la\n",
    "classe des polynômes pour les utiliser au sein de la classe des fractions rationnelles. Nous allons donc définir la classe des fractions rationnelles en la faisant dériver de la classe des polynômes."
   ]
  },
  {
   "cell_type": "code",
   "execution_count": 20,
   "metadata": {},
   "outputs": [],
   "source": [
    "class FracRationnelle(Polynome):\n",
    "    def __init__(self, numerateur, denominateur):\n",
    "        self.numer = numerateur\n",
    "        self.denom = denominateur\n",
    "        \n",
    "    def deg(self):\n",
    "        return self.numer.deg() - self.denom.deg()\n",
    "    \n",
    "    def __call__(self, x):\n",
    "        return self.numer.__call__(x) / self.denom.__call__(x)\n",
    "    \n",
    "    def __str__(self):\n",
    "        return (\"({}) / ({})\".format(self.numer, self.denom))\n",
    "    \n",
    "    def __add__(self, other):\n",
    "        numer = self.numer * other.denom + self.denom * other.numer\n",
    "        denom = self.denom * other.denom\n",
    "        return FracRationnelle(numer, denom)\n",
    "    \n",
    "    def __mul__(self, other):\n",
    "        numer = self.numer * other.numer\n",
    "        denom = self.denom * other.denom\n",
    "        return FracRationnelle(numer, denom)"
   ]
  },
  {
   "cell_type": "markdown",
   "metadata": {},
   "source": [
    "Voici quelques exemples d’utilisation de cette classe :"
   ]
  },
  {
   "cell_type": "code",
   "execution_count": 21,
   "metadata": {},
   "outputs": [
    {
     "name": "stdout",
     "output_type": "stream",
     "text": [
      "(1) / ((-1) + X) ; (1) / (1 + X) ; (2.X) / ((-1) + X^2) ; (1) / ((-1) + X^2)\n",
      "-0.4347826086956522\n"
     ]
    }
   ],
   "source": [
    "p1, p2, p3 = Polynome([1]), Polynome([-1, 1]), Polynome([1, 1])\n",
    "r1, r2 = FracRationnelle(p1, p2), FracRationnelle(p1, p3)\n",
    "print(r1, r2, r1 + r2, r1 * r2, sep=' ; ')\n",
    "print(r1(-1.3))"
   ]
  },
  {
   "cell_type": "markdown",
   "metadata": {},
   "source": [
    "On pourrait encore améliorer la définition de notre classe de fractions rationnelles, en définis-\n",
    "sant une classe de rationnels ; puis en faisant hériter la classe des fractions rationnelles non\n",
    "seulement de la classe des polynômes, mais aussi de la classe des rationnels. On parle dans ce\n",
    "cas d’héritage multiple."
   ]
  },
  {
   "cell_type": "code",
   "execution_count": 22,
   "metadata": {},
   "outputs": [],
   "source": [
    "class Rationnel:\n",
    "    def __init__(self, num, den):\n",
    "        self.numer = num\n",
    "        self.denom = den\n",
    "        \n",
    "    def __str__(self):\n",
    "        return (\"({}) / ({})\".format(self.numer, self.denom))   \n",
    "    \n",
    "    def __add__(self, other):\n",
    "        denom = self.denom * other.denom\n",
    "        numer = self.numer * other.denom + other.numer * self.denom\n",
    "        return Rationnel(numer, denom)\n",
    "    \n",
    "    def __mul__(self, other):\n",
    "        numer = self.numer * other.numer\n",
    "        denom = self.denom * other.denom\n",
    "        return Rationnel(numer, denom)\n",
    "    \n",
    "    \n",
    "class FracRationnelle(Rationnel, Polynome):\n",
    "    def __init__(self, numerateur, denominateur):\n",
    "        self.numer = numerateur\n",
    "        self.denom = denominateur\n",
    "        \n",
    "    def deg(self):\n",
    "        return self.numer.deg() - self.denom.deg()  \n",
    "    \n",
    "    def __call__(self, x):\n",
    "        return self.numer.__call__(x) / self.denom.__call__(x)\n",
    "    \n",
    "    def __add__(self, other):\n",
    "        tmp = (Rationnel(self.numer, self.denom) + Rationnel(other.numer, other.denom))\n",
    "        return FracRationnelle(tmp.numer, tmp.denom)\n",
    "    \n",
    "    def __mul__(self, other):\n",
    "        tmp = (Rationnel(self.numer, self.denom) * Rationnel(other.numer, other.denom))\n",
    "        return FracRationnelle(tmp.numer, tmp.denom)"
   ]
  },
  {
   "cell_type": "markdown",
   "metadata": {},
   "source": [
    "On remarque dans ce cas qu’il est inutile de redéfinir une méthode `__str__()` pour la classe\n",
    "**FracRationnelle**, et que l’écriture des méthodes `__add__()` et `__mul__()` se trouve simplifiée."
   ]
  },
  {
   "cell_type": "markdown",
   "metadata": {},
   "source": [
    "Ces programmations de classes de polynômes, de nombres rationnels et de fractions rationnelles ne sont que des esquisses et sont loin d’être achevées. Le but dans cette section était\n",
    "simplement d’illustrer les notions de classe, de méthode, de surcharge des opérateurs, d’héritage. C’est au fil des exemples que leur manipulation deviendra de plus en plus naturelle.\n",
    "\n",
    "En guise de conclusion, rassemblons quelques remarques au vu des méthodes programmées\n",
    "précédemment.\n",
    "\n",
    " - Le paramètre `self` représente une instance quelconque (c’est-à-dire un objet) de la\n",
    "classe.\n",
    "\n",
    "<center>\n",
    "    <img src=\"images/classe1.png\" width=\"50%\">\n",
    "    </center>\n",
    "    \n",
    "    \n",
    " - Le paramètre `self` est toujours le premier paramètre formel d’une méthode (de la classe)\n",
    "au moment de sa définition. En revanche, il n’apparaît plus dans la liste des paramètres\n",
    "d’une méthode (de la classe) au moment de son appel. En effet, il est alors préfixé au\n",
    "nom de la méthode appelée.   \n",
    "\n",
    "<center>\n",
    "    <img src=\"images/classe2.png\" width=\"50%\">\n",
    "    </center>\n",
    "    \n",
    "  - Pour accéder à une autre méthode ou à un attribut à l’intérieur d’une méthode de la\n",
    "classe, il faut toujours préfixer le nom du paramètre self au nom de la méthode.  \n",
    "    \n",
    "<center>\n",
    "    <img src=\"images/classe3.png\" width=\"60%\">\n",
    "    </center>"
   ]
  },
  {
   "cell_type": "markdown",
   "metadata": {},
   "source": [
    "**** \n",
    "<left> <b> <span style=\"color:brown;\">Exercice résolu : </span> </b></left>\n",
    "\n",
    " 1. Ecrire une classe `Rectangle` en langage Python, permettant de construire un rectangle dotée d’attributs **longueur** et **largeur**.\n",
    " 2. Créer une méthode `Perimetre()` permettant de calculer le périmètre du rectangle et une méthode `Surface()` permettant de calculer la surface du rectangle\n",
    " 3. Créer les `getters` et `setters`.\n",
    " 4. Créer une classe fille `Parallelepipede` héritant de la classe Rectangle et dotée en plus d’un attribut **hauteur** et d’une autre méthode `Volume()` permettant de calculer le volume du Parallélépipède.\n",
    " \n",
    "****\n",
    "\n",
    "\n",
    "\n",
    "<left> <b> <span style=\"color:brown;\"> Solution : </span> </b></left>\n",
    "\n",
    "\n",
    "```python\n",
    "class Rectangle:\n",
    "    def __init__(self,longueur,largeur):\n",
    "        self.longueur = longueur\n",
    "        self.largeur = largeur\n",
    "        \n",
    "    # Méthode qui calcul le périmètre\n",
    "    def Perimetre(self):\n",
    "        return 2*(self.longueur + self.largeur)\n",
    "    \n",
    "    # Méthode qui calcul la surface\n",
    "    def Surface(self):\n",
    "        return self.longueur*self.largeur\n",
    "    \n",
    "class Parallelepipede(Rectangle):\n",
    "    def __init__(self,longueur,largeur, hauteur):\n",
    "        Rectangle.__init__(self,longueur,largeur)\n",
    "        self.hauteur = hauteur\n",
    "    \n",
    "    # méthode qui calcul le volume\n",
    "    def Volume(self):\n",
    "        return self.longueur*self.largeur*self.hauteur\n",
    "    \n",
    "# Test ===============================    \n",
    "monRectangle = Rectangle(7, 5)\n",
    "monParallelepipede = Parallelepipede(7,5,2)\n",
    "print(\"Le périmètre de mon rectangle est : \",monRectangle.Perimetre())\n",
    "print(\"La surface de mon rectangle est : \", monRectangle.Surface())\n",
    "print(\"Le volume de mon parallelepipede est : \", monParallelepipede.Volume())\n",
    "```"
   ]
  }
 ],
 "metadata": {
  "kernelspec": {
   "display_name": "Python 3",
   "language": "python",
   "name": "python3"
  },
  "language_info": {
   "codemirror_mode": {
    "name": "ipython",
    "version": 3
   },
   "file_extension": ".py",
   "mimetype": "text/x-python",
   "name": "python",
   "nbconvert_exporter": "python",
   "pygments_lexer": "ipython3",
   "version": "3.7.4"
  },
  "varInspector": {
   "cols": {
    "lenName": 16,
    "lenType": 16,
    "lenVar": 40
   },
   "kernels_config": {
    "python": {
     "delete_cmd_postfix": "",
     "delete_cmd_prefix": "del ",
     "library": "var_list.py",
     "varRefreshCmd": "print(var_dic_list())"
    },
    "r": {
     "delete_cmd_postfix": ") ",
     "delete_cmd_prefix": "rm(",
     "library": "var_list.r",
     "varRefreshCmd": "cat(var_dic_list()) "
    }
   },
   "types_to_exclude": [
    "module",
    "function",
    "builtin_function_or_method",
    "instance",
    "_Feature"
   ],
   "window_display": false
  }
 },
 "nbformat": 4,
 "nbformat_minor": 2
}
